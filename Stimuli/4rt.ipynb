{
 "cells": [
  {
   "cell_type": "code",
   "execution_count": 18,
   "metadata": {},
   "outputs": [],
   "source": [
    "import pandas as pd\n",
    "import os\n",
    "from random import randint\n",
    "import random \n",
    "import numpy as np"
   ]
  },
  {
   "cell_type": "markdown",
   "metadata": {},
   "source": [
    "# Generating the Order Text Files"
   ]
  },
  {
   "cell_type": "code",
   "execution_count": 4,
   "metadata": {},
   "outputs": [],
   "source": [
    "order_dirs = '/Users/AP-CNL/Desktop/4RT/Stimuli/Order'"
   ]
  },
  {
   "cell_type": "code",
   "execution_count": 8,
   "metadata": {},
   "outputs": [],
   "source": [
    "opt_dict = {'1_option':['line'],\n",
    "            '2_options':['line', 'square'],\n",
    "            '4_options':['line', 'circle', 'triangle', 'square']}"
   ]
  },
  {
   "cell_type": "code",
   "execution_count": 40,
   "metadata": {},
   "outputs": [],
   "source": [
    "def get_order(opt_list):\n",
    "    count = 40 // len(opt_list)\n",
    "    count_list = [count for i in range(len(opt_list))]\n",
    "    order_list = []\n",
    "    i = 40\n",
    "    while i > 0:\n",
    "        index = randint(0, len(opt_list)-1)\n",
    "        if count_list[index] > 0:\n",
    "            count_list[index] = count_list[index] - 1\n",
    "            order_list.append(opt_list[index])\n",
    "            i -= 1\n",
    "        else:\n",
    "            continue\n",
    "    return order_list"
   ]
  },
  {
   "cell_type": "code",
   "execution_count": 45,
   "metadata": {},
   "outputs": [],
   "source": [
    "for fldr in os.listdir(order_dirs):\n",
    "    for i in range(1, 101):\n",
    "        opt_list = get_order(opt_dict[fldr])\n",
    "        txt_path = os.path.join(order_dirs, fldr, f'order_{i:03}.txt')\n",
    "        with open(txt_path, 'w') as file:\n",
    "            file.writelines(f'{opt}/n' for opt in opt_list)"
   ]
  },
  {
   "cell_type": "code",
   "execution_count": null,
   "metadata": {},
   "outputs": [],
   "source": []
  },
  {
   "cell_type": "markdown",
   "metadata": {},
   "source": [
    "# Other Testing"
   ]
  },
  {
   "cell_type": "code",
   "execution_count": 7,
   "metadata": {},
   "outputs": [
    {
     "data": {
      "text/plain": [
       "'order_036.txt'"
      ]
     },
     "execution_count": 7,
     "metadata": {},
     "output_type": "execute_result"
    }
   ],
   "source": [
    "one_opt_list = os.listdir('/Users/AP-CNL/Desktop/4RT/Stimuli/Order/1_option')\n",
    "random.shuffle(one_opt_list)\n",
    "one_opt_list[0]"
   ]
  },
  {
   "cell_type": "code",
   "execution_count": 17,
   "metadata": {},
   "outputs": [
    {
     "name": "stdout",
     "output_type": "stream",
     "text": [
      "['circle', 'feedback', 'line', 'feedback', 'triangle', 'feedback', 'square', 'feedback', 'line', 'feedback', 'circle', 'feedback', 'circle', 'feedback', 'square', 'feedback', 'circle', 'feedback', 'line', 'feedback', 'square', 'feedback', 'circle', 'feedback', 'square', 'feedback', 'square', 'feedback', 'line', 'feedback', 'triangle', 'feedback', 'triangle', 'feedback', 'line', 'feedback', 'square', 'feedback', 'triangle', 'feedback', 'line', 'feedback', 'triangle', 'feedback', 'triangle', 'feedback', 'triangle', 'feedback', 'triangle', 'feedback', 'line', 'feedback', 'line', 'feedback', 'square', 'feedback', 'square', 'feedback', 'circle', 'feedback', 'square', 'feedback', 'square', 'feedback', 'triangle', 'feedback', 'line', 'feedback', 'triangle', 'feedback', 'line', 'feedback', 'circle', 'feedback', 'circle', 'feedback', 'circle', 'feedback', 'circle']\n"
     ]
    }
   ],
   "source": [
    "txt_path = '/Users/AP-CNL/Desktop/4RT/Stimuli/Order/4_options/order_001.txt'\n",
    "with open(txt_path, 'r') as file:\n",
    "    order_list = [line.strip() for line in file]\n",
    "\n",
    "order_list = [item for pair in zip(order_list, ['feedback']*len(order_list)) for item in pair][:-1]\n",
    "print(order_list)"
   ]
  },
  {
   "cell_type": "code",
   "execution_count": null,
   "metadata": {},
   "outputs": [],
   "source": []
  },
  {
   "cell_type": "code",
   "execution_count": null,
   "metadata": {},
   "outputs": [],
   "source": []
  }
 ],
 "metadata": {
  "kernelspec": {
   "display_name": "AP-CNL",
   "language": "python",
   "name": "python3"
  },
  "language_info": {
   "codemirror_mode": {
    "name": "ipython",
    "version": 3
   },
   "file_extension": ".py",
   "mimetype": "text/x-python",
   "name": "python",
   "nbconvert_exporter": "python",
   "pygments_lexer": "ipython3",
   "version": "3.8.19"
  }
 },
 "nbformat": 4,
 "nbformat_minor": 2
}
